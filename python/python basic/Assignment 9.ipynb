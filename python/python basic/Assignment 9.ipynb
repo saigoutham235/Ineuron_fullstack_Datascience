{
 "cells": [
  {
   "cell_type": "markdown",
   "id": "5e0adb19",
   "metadata": {},
   "source": [
    "# 1.To what does a relative path refer ?"
   ]
  },
  {
   "cell_type": "markdown",
   "id": "e945bc2d",
   "metadata": {},
   "source": [
    "Ans: The relative path is the path to some file with respect to your current working directory (PWD).\n",
    "For example: if Absolute path to a file called stuff.txt is: C:/users/admin/docs/stuff.txt If my PWD is C:/users/admin/ , then the relative path to stuff.txt would be: docs/stuff.txt\n",
    "Note: PWD + relative path = absolute path"
   ]
  },
  {
   "cell_type": "markdown",
   "id": "f3d2ad4d",
   "metadata": {},
   "source": [
    "# 2.Where does an absolute path start with your Operating System ?"
   ]
  },
  {
   "cell_type": "markdown",
   "id": "6a2d0d76",
   "metadata": {},
   "source": [
    "Ans: In Linux based systems the absolute path starts with /. Where as in Windows based systems absolute path starts with C:"
   ]
  },
  {
   "cell_type": "markdown",
   "id": "470ae697",
   "metadata": {},
   "source": [
    "# 3.What does the functions os.getcwd() and os.chdir() do ?"
   ]
  },
  {
   "cell_type": "markdown",
   "id": "90fb0b14",
   "metadata": {},
   "source": [
    "Ans. os.getcwd() defines that gets the current working directory and os.chdir() defines that it changes the directory"
   ]
  },
  {
   "cell_type": "markdown",
   "id": "4a5ff5b1",
   "metadata": {},
   "source": [
    "# 4.What are . and .. folders ?"
   ]
  },
  {
   "cell_type": "markdown",
   "id": "a2e8d838",
   "metadata": {},
   "source": [
    "Ans: . Represents the Current Directory Whereas .. Represents the Parent Directory of the Current Directory"
   ]
  },
  {
   "cell_type": "markdown",
   "id": "986d1d20",
   "metadata": {},
   "source": [
    "# 5.In C:\\bacon\\eggs\\spam.txt which part is the dir name and which part is the base name ?"
   ]
  },
  {
   "cell_type": "markdown",
   "id": "960332bb",
   "metadata": {},
   "source": [
    "Ans: For C:\\bacon\\eggs\\spam.txt\n",
    "The dir name is C:\\\\bacon\\\\eggs\n",
    "The Base name is spam.txt"
   ]
  },
  {
   "cell_type": "markdown",
   "id": "159fc510",
   "metadata": {},
   "source": [
    "# 6.What are the three mode arguments that can be passed to the open() function ?"
   ]
  },
  {
   "cell_type": "markdown",
   "id": "9ba95b4c",
   "metadata": {},
   "source": [
    "Ans: A file can be Accessed in python using open() function. open function takes two arguments filename and mode of operation (optional). if mode is not provided the default mode of opening is read mode\n",
    "So, the syntax being: open(filename, mode)"
   ]
  },
  {
   "cell_type": "markdown",
   "id": "ded6806d",
   "metadata": {},
   "source": [
    "‘r’ – Read Mode: This is the default mode for open(). The file is opened and a pointer is positioned at the beginning of the file’s content.\n",
    "‘w’ – Write Mode: Using this mode will overwrite any existing content in a file. If the given file does not exist, a new one will be created.\n",
    "‘r+’ – Read/Write Mode: Use this mode if you need to simultaneously read and write to a file."
   ]
  },
  {
   "cell_type": "markdown",
   "id": "e672017b",
   "metadata": {},
   "source": [
    "# 7.What happens if an existing file is opened in write mode ?"
   ]
  },
  {
   "cell_type": "markdown",
   "id": "e7299474",
   "metadata": {},
   "source": [
    "Ans: Using this mode will overwrite any existing content in a file. If the given file does not exist, a new one will be created."
   ]
  },
  {
   "cell_type": "markdown",
   "id": "af075aee",
   "metadata": {},
   "source": [
    "# 8.How do you tell the difference between read() and readlines() ?"
   ]
  },
  {
   "cell_type": "markdown",
   "id": "b70a47ed",
   "metadata": {},
   "source": [
    "Ans: The main difference is that read() will read the whole file at once and then print out the first characters that take up as many bytes as you specify in the parenthesis"
   ]
  },
  {
   "cell_type": "markdown",
   "id": "16121e96",
   "metadata": {},
   "source": [
    "# 9.What data structure does a shelf value resemble ?"
   ]
  },
  {
   "cell_type": "markdown",
   "id": "d0645511",
   "metadata": {},
   "source": [
    "Ans: it contains key and values it represents dictionary."
   ]
  },
  {
   "cell_type": "code",
   "execution_count": null,
   "id": "67c097af",
   "metadata": {},
   "outputs": [],
   "source": []
  }
 ],
 "metadata": {
  "kernelspec": {
   "display_name": "Python 3 (ipykernel)",
   "language": "python",
   "name": "python3"
  },
  "language_info": {
   "codemirror_mode": {
    "name": "ipython",
    "version": 3
   },
   "file_extension": ".py",
   "mimetype": "text/x-python",
   "name": "python",
   "nbconvert_exporter": "python",
   "pygments_lexer": "ipython3",
   "version": "3.9.7"
  }
 },
 "nbformat": 4,
 "nbformat_minor": 5
}
