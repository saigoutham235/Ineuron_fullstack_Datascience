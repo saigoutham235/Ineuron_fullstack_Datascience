{
 "cells": [
  {
   "cell_type": "markdown",
   "id": "60cd2368",
   "metadata": {},
   "source": [
    "# 1. Create an assert statement that throws an AssertionError if the variable spam is a negative integer."
   ]
  },
  {
   "cell_type": "code",
   "execution_count": 3,
   "id": "49e9921c",
   "metadata": {},
   "outputs": [
    {
     "ename": "AssertionError",
     "evalue": "",
     "output_type": "error",
     "traceback": [
      "\u001b[1;31m---------------------------------------------------------------------------\u001b[0m",
      "\u001b[1;31mAssertionError\u001b[0m                            Traceback (most recent call last)",
      "\u001b[1;32m~\\AppData\\Local\\Temp/ipykernel_8440/2176976968.py\u001b[0m in \u001b[0;36m<module>\u001b[1;34m\u001b[0m\n\u001b[0;32m      1\u001b[0m \u001b[0mspam\u001b[0m \u001b[1;33m=\u001b[0m \u001b[1;33m-\u001b[0m\u001b[1;36m22\u001b[0m\u001b[1;33m\u001b[0m\u001b[1;33m\u001b[0m\u001b[0m\n\u001b[1;32m----> 2\u001b[1;33m \u001b[1;32massert\u001b[0m \u001b[0mspam\u001b[0m \u001b[1;33m>=\u001b[0m\u001b[1;36m0\u001b[0m\u001b[1;33m\u001b[0m\u001b[1;33m\u001b[0m\u001b[0m\n\u001b[0m",
      "\u001b[1;31mAssertionError\u001b[0m: "
     ]
    }
   ],
   "source": [
    "spam = -22\n",
    "assert spam >=0"
   ]
  },
  {
   "cell_type": "markdown",
   "id": "7c8d22fb",
   "metadata": {},
   "source": [
    "# 2. Write an assert statement that triggers an AssertionError if the variables eggs and bacon contain strings that are the same as each other, even if their cases are different (that is, 'hello' and 'hello' are considered the same, and 'goodbye' and 'GOODbye' are also considered the same)."
   ]
  },
  {
   "cell_type": "code",
   "execution_count": 4,
   "id": "82617e9f",
   "metadata": {},
   "outputs": [],
   "source": [
    "def raise_assert(egg,bacon):\n",
    "    egg = egg.upper()\n",
    "    bacon = bacon.upper()\n",
    "    assert not(egg == bacon)"
   ]
  },
  {
   "cell_type": "code",
   "execution_count": 5,
   "id": "9b7e9308",
   "metadata": {},
   "outputs": [
    {
     "ename": "AssertionError",
     "evalue": "",
     "output_type": "error",
     "traceback": [
      "\u001b[1;31m---------------------------------------------------------------------------\u001b[0m",
      "\u001b[1;31mAssertionError\u001b[0m                            Traceback (most recent call last)",
      "\u001b[1;32m~\\AppData\\Local\\Temp/ipykernel_8440/1731780412.py\u001b[0m in \u001b[0;36m<module>\u001b[1;34m\u001b[0m\n\u001b[1;32m----> 1\u001b[1;33m \u001b[0mraise_assert\u001b[0m\u001b[1;33m(\u001b[0m\u001b[1;34m'hello'\u001b[0m\u001b[1;33m,\u001b[0m\u001b[1;34m'HELLO'\u001b[0m\u001b[1;33m)\u001b[0m\u001b[1;33m\u001b[0m\u001b[1;33m\u001b[0m\u001b[0m\n\u001b[0m",
      "\u001b[1;32m~\\AppData\\Local\\Temp/ipykernel_8440/2763630650.py\u001b[0m in \u001b[0;36mraise_assert\u001b[1;34m(egg, bacon)\u001b[0m\n\u001b[0;32m      2\u001b[0m     \u001b[0megg\u001b[0m \u001b[1;33m=\u001b[0m \u001b[0megg\u001b[0m\u001b[1;33m.\u001b[0m\u001b[0mupper\u001b[0m\u001b[1;33m(\u001b[0m\u001b[1;33m)\u001b[0m\u001b[1;33m\u001b[0m\u001b[1;33m\u001b[0m\u001b[0m\n\u001b[0;32m      3\u001b[0m     \u001b[0mbacon\u001b[0m \u001b[1;33m=\u001b[0m \u001b[0mbacon\u001b[0m\u001b[1;33m.\u001b[0m\u001b[0mupper\u001b[0m\u001b[1;33m(\u001b[0m\u001b[1;33m)\u001b[0m\u001b[1;33m\u001b[0m\u001b[1;33m\u001b[0m\u001b[0m\n\u001b[1;32m----> 4\u001b[1;33m     \u001b[1;32massert\u001b[0m \u001b[1;32mnot\u001b[0m\u001b[1;33m(\u001b[0m\u001b[0megg\u001b[0m \u001b[1;33m==\u001b[0m \u001b[0mbacon\u001b[0m\u001b[1;33m)\u001b[0m\u001b[1;33m\u001b[0m\u001b[1;33m\u001b[0m\u001b[0m\n\u001b[0m",
      "\u001b[1;31mAssertionError\u001b[0m: "
     ]
    }
   ],
   "source": [
    "raise_assert('hello','HELLO')"
   ]
  },
  {
   "cell_type": "code",
   "execution_count": 6,
   "id": "2c96325c",
   "metadata": {},
   "outputs": [
    {
     "ename": "AssertionError",
     "evalue": "",
     "output_type": "error",
     "traceback": [
      "\u001b[1;31m---------------------------------------------------------------------------\u001b[0m",
      "\u001b[1;31mAssertionError\u001b[0m                            Traceback (most recent call last)",
      "\u001b[1;32m~\\AppData\\Local\\Temp/ipykernel_8440/4052838577.py\u001b[0m in \u001b[0;36m<module>\u001b[1;34m\u001b[0m\n\u001b[1;32m----> 1\u001b[1;33m \u001b[0mraise_assert\u001b[0m\u001b[1;33m(\u001b[0m\u001b[1;34m'goodbye'\u001b[0m\u001b[1;33m,\u001b[0m\u001b[1;34m'GOODbye'\u001b[0m\u001b[1;33m)\u001b[0m\u001b[1;33m\u001b[0m\u001b[1;33m\u001b[0m\u001b[0m\n\u001b[0m",
      "\u001b[1;32m~\\AppData\\Local\\Temp/ipykernel_8440/2763630650.py\u001b[0m in \u001b[0;36mraise_assert\u001b[1;34m(egg, bacon)\u001b[0m\n\u001b[0;32m      2\u001b[0m     \u001b[0megg\u001b[0m \u001b[1;33m=\u001b[0m \u001b[0megg\u001b[0m\u001b[1;33m.\u001b[0m\u001b[0mupper\u001b[0m\u001b[1;33m(\u001b[0m\u001b[1;33m)\u001b[0m\u001b[1;33m\u001b[0m\u001b[1;33m\u001b[0m\u001b[0m\n\u001b[0;32m      3\u001b[0m     \u001b[0mbacon\u001b[0m \u001b[1;33m=\u001b[0m \u001b[0mbacon\u001b[0m\u001b[1;33m.\u001b[0m\u001b[0mupper\u001b[0m\u001b[1;33m(\u001b[0m\u001b[1;33m)\u001b[0m\u001b[1;33m\u001b[0m\u001b[1;33m\u001b[0m\u001b[0m\n\u001b[1;32m----> 4\u001b[1;33m     \u001b[1;32massert\u001b[0m \u001b[1;32mnot\u001b[0m\u001b[1;33m(\u001b[0m\u001b[0megg\u001b[0m \u001b[1;33m==\u001b[0m \u001b[0mbacon\u001b[0m\u001b[1;33m)\u001b[0m\u001b[1;33m\u001b[0m\u001b[1;33m\u001b[0m\u001b[0m\n\u001b[0m",
      "\u001b[1;31mAssertionError\u001b[0m: "
     ]
    }
   ],
   "source": [
    "raise_assert('goodbye','GOODbye')"
   ]
  },
  {
   "cell_type": "markdown",
   "id": "3376f2de",
   "metadata": {},
   "source": [
    "# 3. Create an assert statement that throws an AssertionError every time."
   ]
  },
  {
   "cell_type": "code",
   "execution_count": 9,
   "id": "5c382106",
   "metadata": {},
   "outputs": [
    {
     "ename": "AssertionError",
     "evalue": "",
     "output_type": "error",
     "traceback": [
      "\u001b[1;31m---------------------------------------------------------------------------\u001b[0m",
      "\u001b[1;31mAssertionError\u001b[0m                            Traceback (most recent call last)",
      "\u001b[1;32m~\\AppData\\Local\\Temp/ipykernel_8440/3325530965.py\u001b[0m in \u001b[0;36m<module>\u001b[1;34m\u001b[0m\n\u001b[0;32m      1\u001b[0m \u001b[1;32mdef\u001b[0m \u001b[0massert_always\u001b[0m\u001b[1;33m(\u001b[0m\u001b[1;33m)\u001b[0m\u001b[1;33m:\u001b[0m\u001b[1;33m\u001b[0m\u001b[1;33m\u001b[0m\u001b[0m\n\u001b[0;32m      2\u001b[0m     \u001b[1;32massert\u001b[0m \u001b[1;32mFalse\u001b[0m\u001b[1;33m\u001b[0m\u001b[1;33m\u001b[0m\u001b[0m\n\u001b[1;32m----> 3\u001b[1;33m \u001b[0massert_always\u001b[0m\u001b[1;33m(\u001b[0m\u001b[1;33m)\u001b[0m\u001b[1;33m\u001b[0m\u001b[1;33m\u001b[0m\u001b[0m\n\u001b[0m",
      "\u001b[1;32m~\\AppData\\Local\\Temp/ipykernel_8440/3325530965.py\u001b[0m in \u001b[0;36massert_always\u001b[1;34m()\u001b[0m\n\u001b[0;32m      1\u001b[0m \u001b[1;32mdef\u001b[0m \u001b[0massert_always\u001b[0m\u001b[1;33m(\u001b[0m\u001b[1;33m)\u001b[0m\u001b[1;33m:\u001b[0m\u001b[1;33m\u001b[0m\u001b[1;33m\u001b[0m\u001b[0m\n\u001b[1;32m----> 2\u001b[1;33m     \u001b[1;32massert\u001b[0m \u001b[1;32mFalse\u001b[0m\u001b[1;33m\u001b[0m\u001b[1;33m\u001b[0m\u001b[0m\n\u001b[0m\u001b[0;32m      3\u001b[0m \u001b[0massert_always\u001b[0m\u001b[1;33m(\u001b[0m\u001b[1;33m)\u001b[0m\u001b[1;33m\u001b[0m\u001b[1;33m\u001b[0m\u001b[0m\n",
      "\u001b[1;31mAssertionError\u001b[0m: "
     ]
    }
   ],
   "source": [
    "def assert_always():\n",
    "    assert False \n",
    "assert_always()"
   ]
  },
  {
   "cell_type": "markdown",
   "id": "d8c5993f",
   "metadata": {},
   "source": [
    "# 4. What are the two lines that must be present in your software in order to call logging.debug()?"
   ]
  },
  {
   "cell_type": "code",
   "execution_count": 21,
   "id": "055d3779",
   "metadata": {},
   "outputs": [],
   "source": [
    "import logging\n",
    "logging.basicConfig(filename = 'application_log.txt',level=logging.DEBUG, format=' %(asctime)s - %(levelname)s - %(message)s')"
   ]
  },
  {
   "cell_type": "markdown",
   "id": "8e8fd836",
   "metadata": {},
   "source": [
    "# 5. What are the two lines that your program must have in order to have logging.debug() send a logging message to a file named programLog.txt?"
   ]
  },
  {
   "cell_type": "code",
   "execution_count": 25,
   "id": "d6491ed7",
   "metadata": {},
   "outputs": [],
   "source": [
    "import logging\n",
    "logging.basicConfig(filename = 'application_log.txt',level=logging.DEBUG, format=' %(asctime)s - %(levelname)s - %(message)s')\n",
    "logging.debug(\"Data Inserted Successfully\")\n",
    "logging.debug('Connection Closed Successfully')"
   ]
  },
  {
   "cell_type": "code",
   "execution_count": 26,
   "id": "f7492951",
   "metadata": {},
   "outputs": [
    {
     "name": "stdout",
     "output_type": "stream",
     "text": [
      " 2022-08-20 21:12:23,104 - DEBUG - Data Inserted Successfully\n",
      "\n",
      " 2022-08-20 21:12:23,105 - DEBUG - Connection Closed Successfully\n",
      "\n",
      " 2022-08-20 21:13:16,431 - DEBUG - Data Inserted Successfully\n",
      "\n",
      " 2022-08-20 21:13:16,432 - DEBUG - Connection Closed Successfully\n",
      "\n",
      " 2022-08-20 21:14:18,979 - DEBUG - Data Inserted Successfully\n",
      "\n",
      " 2022-08-20 21:14:18,980 - DEBUG - Connection Closed Successfully\n",
      "\n",
      " 2022-08-20 21:15:17,458 - DEBUG - Data Inserted Successfully\n",
      "\n",
      " 2022-08-20 21:15:17,458 - DEBUG - Connection Closed Successfully\n",
      "\n",
      " 2022-08-20 21:15:40,212 - DEBUG - Data Inserted Successfully\n",
      "\n",
      " 2022-08-20 21:15:40,213 - DEBUG - Connection Closed Successfully\n",
      "\n"
     ]
    }
   ],
   "source": [
    "file = open(\"./application_log.txt\",\"r\")\n",
    "for record in file.readlines():\n",
    "    print(record)"
   ]
  },
  {
   "cell_type": "markdown",
   "id": "334712ad",
   "metadata": {},
   "source": [
    "# 6. What are the five levels of logging?"
   ]
  },
  {
   "cell_type": "markdown",
   "id": "2cfe4af9",
   "metadata": {},
   "source": [
    "Ans: The Five levels of Logging provided by python's logging module are CRITICAL(50), ERROR(40), WARNING(30), INFO(20, DEBUG(10), NOTSET(0)"
   ]
  },
  {
   "cell_type": "markdown",
   "id": "d5e42ab8",
   "metadata": {},
   "source": [
    "# 7. What line of code would you add to your software to disable all logging messages?"
   ]
  },
  {
   "cell_type": "code",
   "execution_count": 27,
   "id": "0f628378",
   "metadata": {},
   "outputs": [],
   "source": [
    "logging.disable = True"
   ]
  },
  {
   "cell_type": "markdown",
   "id": "de9677f4",
   "metadata": {},
   "source": [
    "# 8.Why is using logging messages better than using print() to display the same message?"
   ]
  },
  {
   "cell_type": "markdown",
   "id": "8733d6df",
   "metadata": {},
   "source": [
    "Ans: Post devlopment of your code, you can disable logging messages without removing the logging function, whereas you need to manually remove print() statements, which is tedious activity. and also print is used when you want to display any particular message or help whereas logging is used to record all events like error, info, debug messages, timestamps."
   ]
  },
  {
   "cell_type": "markdown",
   "id": "951a1417",
   "metadata": {},
   "source": [
    "# 9.What are the differences between the Step Over, Step In, and Step Out buttons in the debugger?"
   ]
  },
  {
   "cell_type": "markdown",
   "id": "6d8e21d5",
   "metadata": {},
   "source": [
    "Ans: The Differences between Step Over, Step In, Step Out buttons in debugger are:\n",
    "\n",
    "Step in - Step In button will cause the debugger to execute the next line of code and then pause again.\n",
    "Step Over - Step Over button will execute the next line of code, similar to the Step In button. However, if the next line of code is a function call, the Step Over button will “step over” the code in the function. The function’s code will be executed at full speed, and the debugger will pause as soon as the function call returns.\n",
    "Step out - Step Out button will cause the debugger to execute lines of code at full speed until it returns from the current function."
   ]
  },
  {
   "cell_type": "markdown",
   "id": "9b7a38c5",
   "metadata": {},
   "source": [
    "# 10.After you click Continue, when will the debugger stop ?"
   ]
  },
  {
   "cell_type": "markdown",
   "id": "b40358a5",
   "metadata": {},
   "source": [
    "Ans: This will cause the program to continue running normally, without pausing for debugging untill it terminates or reaches a breakpoint."
   ]
  },
  {
   "cell_type": "markdown",
   "id": "d00e8a3a",
   "metadata": {},
   "source": [
    "# 11. What is the concept of a breakpoint?"
   ]
  },
  {
   "cell_type": "markdown",
   "id": "2a8055c7",
   "metadata": {},
   "source": [
    "Ans: Breakpoint is a setting on a line of code that causes the debugger to pause when the program execution reaches the line"
   ]
  },
  {
   "cell_type": "code",
   "execution_count": null,
   "id": "64193096",
   "metadata": {},
   "outputs": [],
   "source": []
  }
 ],
 "metadata": {
  "kernelspec": {
   "display_name": "Python 3 (ipykernel)",
   "language": "python",
   "name": "python3"
  },
  "language_info": {
   "codemirror_mode": {
    "name": "ipython",
    "version": 3
   },
   "file_extension": ".py",
   "mimetype": "text/x-python",
   "name": "python",
   "nbconvert_exporter": "python",
   "pygments_lexer": "ipython3",
   "version": "3.9.7"
  }
 },
 "nbformat": 4,
 "nbformat_minor": 5
}
