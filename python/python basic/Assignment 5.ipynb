{
 "cells": [
  {
   "cell_type": "markdown",
   "id": "1dd2af05",
   "metadata": {},
   "source": [
    "# 1. What does an empty dictionary&#39;s code look like?"
   ]
  },
  {
   "cell_type": "markdown",
   "id": "b595dce8",
   "metadata": {},
   "source": [
    "Ans: The code for empty dictonary is d={} or dict()"
   ]
  },
  {
   "cell_type": "markdown",
   "id": "973224ee",
   "metadata": {},
   "source": [
    "# 2. What is the value of a dictionary value with the key &#39;foo&#39; and the value 42?"
   ]
  },
  {
   "cell_type": "markdown",
   "id": "2275f20e",
   "metadata": {},
   "source": [
    "Ans: the value of dictonary is"
   ]
  },
  {
   "cell_type": "code",
   "execution_count": 1,
   "id": "3788a7db",
   "metadata": {},
   "outputs": [],
   "source": [
    "d={\"foo\": 42}"
   ]
  },
  {
   "cell_type": "code",
   "execution_count": 2,
   "id": "d5b7dcdf",
   "metadata": {},
   "outputs": [
    {
     "data": {
      "text/plain": [
       "{'foo': 42}"
      ]
     },
     "execution_count": 2,
     "metadata": {},
     "output_type": "execute_result"
    }
   ],
   "source": [
    "d"
   ]
  },
  {
   "cell_type": "markdown",
   "id": "ca2d2477",
   "metadata": {},
   "source": [
    "# 3. What is the most significant distinction between a dictionary and a list?"
   ]
  },
  {
   "cell_type": "markdown",
   "id": "61f9a5ce",
   "metadata": {},
   "source": [
    "Ans:The distinction of dictonary is {} and distinction of list is [].The Items stored in a dictionary are Unordered , while the items in a list are ordered "
   ]
  },
  {
   "cell_type": "markdown",
   "id": "9deebc98",
   "metadata": {},
   "source": [
    "# 4. What happens if you try to access spam[&#39;foo&#39;] if spam is {&#39;bar&#39;: 100}?"
   ]
  },
  {
   "cell_type": "markdown",
   "id": "b82fd1cc",
   "metadata": {},
   "source": [
    "Ans: It throws the error."
   ]
  },
  {
   "cell_type": "code",
   "execution_count": 3,
   "id": "1fad601d",
   "metadata": {},
   "outputs": [],
   "source": [
    "spam={\"bar\":100}"
   ]
  },
  {
   "cell_type": "code",
   "execution_count": 4,
   "id": "8a9f2d6e",
   "metadata": {},
   "outputs": [
    {
     "data": {
      "text/plain": [
       "{'bar': 100}"
      ]
     },
     "execution_count": 4,
     "metadata": {},
     "output_type": "execute_result"
    }
   ],
   "source": [
    "spam"
   ]
  },
  {
   "cell_type": "code",
   "execution_count": 5,
   "id": "8a2082fb",
   "metadata": {},
   "outputs": [
    {
     "ename": "KeyError",
     "evalue": "'foo'",
     "output_type": "error",
     "traceback": [
      "\u001b[1;31m---------------------------------------------------------------------------\u001b[0m",
      "\u001b[1;31mKeyError\u001b[0m                                  Traceback (most recent call last)",
      "\u001b[1;32m~\\AppData\\Local\\Temp/ipykernel_4028/3999281786.py\u001b[0m in \u001b[0;36m<module>\u001b[1;34m\u001b[0m\n\u001b[1;32m----> 1\u001b[1;33m \u001b[0mspam\u001b[0m\u001b[1;33m[\u001b[0m\u001b[1;34m'foo'\u001b[0m\u001b[1;33m]\u001b[0m\u001b[1;33m\u001b[0m\u001b[1;33m\u001b[0m\u001b[0m\n\u001b[0m",
      "\u001b[1;31mKeyError\u001b[0m: 'foo'"
     ]
    }
   ],
   "source": [
    "spam['foo']"
   ]
  },
  {
   "cell_type": "markdown",
   "id": "69c8d4f3",
   "metadata": {},
   "source": [
    "# 5. If a dictionary is stored in spam, what is the difference between the expressions &#39;cat&#39; in spam and &#39;cat&#39; in spam.keys()?"
   ]
  },
  {
   "cell_type": "markdown",
   "id": "37a6dc70",
   "metadata": {},
   "source": [
    "Ans: There is no difference . The operator checks whether a value exits as a key in the dictionary or not"
   ]
  },
  {
   "cell_type": "markdown",
   "id": "36176881",
   "metadata": {},
   "source": [
    "# 6. If a dictionary is stored in spam, what is the difference between the expressions &#39;cat&#39; in spam and &#39;cat&#39; in spam.values()?"
   ]
  },
  {
   "cell_type": "markdown",
   "id": "69cb566e",
   "metadata": {},
   "source": [
    "Ans: 'cat' in spam checks that where 'cat' is key there or not in spam. And spam.values() check the values of 'cat'one of the key in the spam"
   ]
  },
  {
   "cell_type": "markdown",
   "id": "e556012b",
   "metadata": {},
   "source": [
    "# 7. What is a shortcut for the following code?if &#39;color&#39; not in spam:spam[&#39;color&#39;] = &#39;black&#39;"
   ]
  },
  {
   "cell_type": "markdown",
   "id": "97756230",
   "metadata": {},
   "source": [
    "Ans: It can write in another mode. spam.setdefault(\"color\": black)"
   ]
  },
  {
   "cell_type": "markdown",
   "id": "5656f71c",
   "metadata": {},
   "source": [
    "# 8.How do you 'pretty print' dictionary values using which modules and function ?"
   ]
  },
  {
   "cell_type": "markdown",
   "id": "672e2f88",
   "metadata": {},
   "source": [
    "Ans: we can use pprint() to Pretty Print a Dictionary in Python"
   ]
  },
  {
   "cell_type": "code",
   "execution_count": 6,
   "id": "b746d941",
   "metadata": {},
   "outputs": [
    {
     "name": "stdout",
     "output_type": "stream",
     "text": [
      "Printing using pprint() funciton\n",
      "[{'Age': '23', 'Name': 'sai', 'Residence': {'City': 'Texas', 'Country': 'USA'}},\n",
      " {'Age': '24',\n",
      "  'Name': 'goutham',\n",
      "  'Residence': {'City': 'hyderbad', 'Country': 'India'}}]\n"
     ]
    }
   ],
   "source": [
    "import pprint\n",
    "ndict = [\n",
    "  {'Name': 'sai', 'Age': '23', 'Residence': {'Country':'USA', 'City': 'Texas'}},\n",
    "  {'Name': 'goutham', 'Age': '24', 'Residence': {'Country':'India', 'City': 'hyderbad'}},\n",
    "]\n",
    "print('Printing using pprint() funciton')\n",
    "pprint.pprint(ndict)"
   ]
  },
  {
   "cell_type": "code",
   "execution_count": null,
   "id": "83c58a39",
   "metadata": {},
   "outputs": [],
   "source": []
  }
 ],
 "metadata": {
  "kernelspec": {
   "display_name": "Python 3 (ipykernel)",
   "language": "python",
   "name": "python3"
  },
  "language_info": {
   "codemirror_mode": {
    "name": "ipython",
    "version": 3
   },
   "file_extension": ".py",
   "mimetype": "text/x-python",
   "name": "python",
   "nbconvert_exporter": "python",
   "pygments_lexer": "ipython3",
   "version": "3.9.7"
  }
 },
 "nbformat": 4,
 "nbformat_minor": 5
}
