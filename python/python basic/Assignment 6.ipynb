{
 "cells": [
  {
   "cell_type": "markdown",
   "id": "37179093",
   "metadata": {},
   "source": [
    "# 1.What are Escape characters ? and how do you use them ?"
   ]
  },
  {
   "cell_type": "markdown",
   "id": "2df5c2c8",
   "metadata": {},
   "source": [
    "Ans: Escape characters repersents the character of a string that we use for regular purpose otherwise it is difficult to use strings. we can use backslash \\ to represent the escape characters"
   ]
  },
  {
   "cell_type": "markdown",
   "id": "acc45447",
   "metadata": {},
   "source": [
    "# 2.What do the escape characters n and t stand for ?"
   ]
  },
  {
   "cell_type": "markdown",
   "id": "91a09853",
   "metadata": {},
   "source": [
    "Ans: \\n stands for newline. \\t stands for new tab "
   ]
  },
  {
   "cell_type": "markdown",
   "id": "fce11442",
   "metadata": {},
   "source": [
    "# 3.What is the way to include backslash character in a string?"
   ]
  },
  {
   "cell_type": "markdown",
   "id": "c2d68b91",
   "metadata": {},
   "source": [
    "Ans: the \\\\ escape character will represent blackslash character in a string"
   ]
  },
  {
   "cell_type": "markdown",
   "id": "b10e5232",
   "metadata": {},
   "source": [
    "# 4.The string \"Howl's Moving Castle\" is a correct value. Why isn't the single quote character in the word Howl's not escaped a problem ?"
   ]
  },
  {
   "cell_type": "markdown",
   "id": "1cc3fab9",
   "metadata": {},
   "source": [
    "Ans: The string \"Howl's Moving Castle\" escaped the problem because it is wrapped inside double quotes. if its wrapped inside single quotes then we have to use escape character \\' to show single quote in the final output"
   ]
  },
  {
   "cell_type": "markdown",
   "id": "60d9f18e",
   "metadata": {},
   "source": [
    "# 5.How do you write a string of newlines if you don't want to use the n character?"
   ]
  },
  {
   "cell_type": "markdown",
   "id": "9747e5da",
   "metadata": {},
   "source": [
    "Ans: using multiline strings"
   ]
  },
  {
   "cell_type": "code",
   "execution_count": 1,
   "id": "9baf9b3e",
   "metadata": {},
   "outputs": [
    {
     "name": "stdout",
     "output_type": "stream",
     "text": [
      " This is\n",
      "Assignment 6\n"
     ]
    }
   ],
   "source": [
    "#example\n",
    "a=''' This is\n",
    "Assignment 6'''\n",
    "print(a)"
   ]
  },
  {
   "cell_type": "markdown",
   "id": "f9183e92",
   "metadata": {},
   "source": [
    "# 6.What are the values of the given expressions ?'Hello, world!'[1]'Hello, world!'[0:5]'Hello, world!'[:5]'Hello, world!'[3:]"
   ]
  },
  {
   "cell_type": "markdown",
   "id": "1da7fbaf",
   "metadata": {},
   "source": [
    "Ans: the values are"
   ]
  },
  {
   "cell_type": "code",
   "execution_count": 2,
   "id": "29a62d99",
   "metadata": {},
   "outputs": [
    {
     "name": "stdout",
     "output_type": "stream",
     "text": [
      "e\n",
      "Hello\n",
      "Hello\n",
      "lo, world!\n"
     ]
    }
   ],
   "source": [
    "print('Hello, world!'[1])\n",
    "print('Hello, world!'[0:5])\n",
    "print('Hello, world!'[:5])\n",
    "print('Hello, world!'[3:])"
   ]
  },
  {
   "cell_type": "markdown",
   "id": "ded807e9",
   "metadata": {},
   "source": [
    "# 7.What are the values of the following expressions ?'Hello'.upper()'Hello'.upper().isupper()'Hello'.upper().lower()"
   ]
  },
  {
   "cell_type": "markdown",
   "id": "84deb54a",
   "metadata": {},
   "source": [
    "Ans: the values are"
   ]
  },
  {
   "cell_type": "code",
   "execution_count": 3,
   "id": "9c5fcdeb",
   "metadata": {},
   "outputs": [
    {
     "name": "stdout",
     "output_type": "stream",
     "text": [
      "HELLO\n",
      "True\n",
      "hello\n"
     ]
    }
   ],
   "source": [
    "print('Hello'.upper())\n",
    "print('Hello'.upper().isupper())\n",
    "print('Hello'.upper().lower())"
   ]
  },
  {
   "cell_type": "markdown",
   "id": "f503b9e6",
   "metadata": {},
   "source": [
    "# 8.What are the values of the following expressions ?'Remember, remember, the fifith of July.'.split()-'.join('There can only one'.split())"
   ]
  },
  {
   "cell_type": "markdown",
   "id": "69f4823a",
   "metadata": {},
   "source": [
    "Ans: The values are"
   ]
  },
  {
   "cell_type": "code",
   "execution_count": 6,
   "id": "cbe528e5",
   "metadata": {},
   "outputs": [
    {
     "name": "stdout",
     "output_type": "stream",
     "text": [
      "['Remember,', 'remember,', 'the', 'fifith', 'of', 'July.']\n",
      "There-can-only-one\n"
     ]
    }
   ],
   "source": [
    "print('Remember, remember, the fifith of July.'.split())\n",
    "print ('-'.join('There can only one'.split()))"
   ]
  },
  {
   "cell_type": "markdown",
   "id": "a2f0e733",
   "metadata": {},
   "source": [
    "# 9.What are the methods for right-justifying, left-justifying and centering a string ?"
   ]
  },
  {
   "cell_type": "markdown",
   "id": "fd796d4b",
   "metadata": {},
   "source": [
    "Ans: rjust(),ljust(),center()"
   ]
  },
  {
   "cell_type": "markdown",
   "id": "3e8f9d2e",
   "metadata": {},
   "source": [
    "# 10.What is the best way to remove whitespace characters from the start or end ?"
   ]
  },
  {
   "cell_type": "markdown",
   "id": "14889aae",
   "metadata": {},
   "source": [
    "Ans: lstrip(),rstrip() is best way to remove whitespaces from start or end"
   ]
  },
  {
   "cell_type": "code",
   "execution_count": null,
   "id": "d576ac44",
   "metadata": {},
   "outputs": [],
   "source": []
  }
 ],
 "metadata": {
  "kernelspec": {
   "display_name": "Python 3 (ipykernel)",
   "language": "python",
   "name": "python3"
  },
  "language_info": {
   "codemirror_mode": {
    "name": "ipython",
    "version": 3
   },
   "file_extension": ".py",
   "mimetype": "text/x-python",
   "name": "python",
   "nbconvert_exporter": "python",
   "pygments_lexer": "ipython3",
   "version": "3.9.7"
  }
 },
 "nbformat": 4,
 "nbformat_minor": 5
}
