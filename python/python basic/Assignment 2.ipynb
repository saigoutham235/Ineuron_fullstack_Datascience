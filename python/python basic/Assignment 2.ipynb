{
 "cells": [
  {
   "cell_type": "markdown",
   "id": "c7382175",
   "metadata": {},
   "source": [
    "# 1.What are the two values of the boolean data types? how do you write them ?"
   ]
  },
  {
   "cell_type": "markdown",
   "id": "6f2a72c8",
   "metadata": {},
   "source": [
    "There are 2 types of boolean data types. There are True and False  "
   ]
  },
  {
   "cell_type": "code",
   "execution_count": 3,
   "id": "b8662207",
   "metadata": {},
   "outputs": [
    {
     "name": "stdout",
     "output_type": "stream",
     "text": [
      "True <class 'bool'>\n",
      "False <class 'bool'>\n"
     ]
    }
   ],
   "source": [
    "x= True\n",
    "y= False\n",
    "print(x,type(x))\n",
    "print(y,type(y))"
   ]
  },
  {
   "cell_type": "markdown",
   "id": "6b3c7961",
   "metadata": {},
   "source": [
    "# 2. What are the three different types of Boolean operators?"
   ]
  },
  {
   "cell_type": "markdown",
   "id": "9a3f6b47",
   "metadata": {},
   "source": [
    "There are 3 types of boolean operators are there. There are and, not, or"
   ]
  },
  {
   "cell_type": "code",
   "execution_count": 4,
   "id": "fecbeed2",
   "metadata": {},
   "outputs": [
    {
     "name": "stdout",
     "output_type": "stream",
     "text": [
      "True\n",
      "True\n",
      "False\n"
     ]
    }
   ],
   "source": [
    "x=100\n",
    "y=200\n",
    "print(x>50 and y>100) \n",
    "print(x>200 or y>100) \n",
    "print(not(x>10)) "
   ]
  },
  {
   "cell_type": "markdown",
   "id": "7e457aae",
   "metadata": {},
   "source": [
    "# 3. Make a list of each Boolean operator's truth tables (i.e. every possible combination of Boolean values for the operator and what it evaluate) ?"
   ]
  },
  {
   "cell_type": "raw",
   "id": "cbcf28f0",
   "metadata": {},
   "source": [
    "The Truth tables for the boolean tables are as follows:\n",
    "\n",
    "Truth Table for and operator\n",
    "True and True is True\n",
    "True and False is False\n",
    "False and True is False\n",
    "False and False is False\n",
    "\n",
    "Truth Table for or operator\n",
    "True and True is True\n",
    "True and False is True\n",
    "False and True is True\n",
    "False and False is False\n",
    "\n",
    "Truth Table for not operator\n",
    "True not is False False not is True"
   ]
  },
  {
   "cell_type": "markdown",
   "id": "be7eb569",
   "metadata": {},
   "source": [
    "# 4. What are the values of the following expressions ?\n",
    "(5 > 4) and (3 == 5)\n",
    "not (5 > 4)\n",
    "(5 > 4) or (3 == 5)\n",
    "not ((5 > 4) or (3 == 5))\n",
    "(True and True) and (True == False)\n",
    "(not False) or (not True)"
   ]
  },
  {
   "cell_type": "code",
   "execution_count": 6,
   "id": "6d280909",
   "metadata": {},
   "outputs": [
    {
     "name": "stdout",
     "output_type": "stream",
     "text": [
      "False\n",
      "False\n",
      "True\n",
      "False\n",
      "False\n",
      "True\n"
     ]
    }
   ],
   "source": [
    "print((5>4)and(3==5)) \n",
    "print(not(5>4)) \n",
    "print((5>4)or(3==5)) \n",
    "print(not((5>4)or(3==5))) \n",
    "print((True and True)and(True==False)) \n",
    "print((not False)or(not True)) "
   ]
  },
  {
   "cell_type": "markdown",
   "id": "dd4da7fe",
   "metadata": {},
   "source": [
    "# 5. What are the six comparison operators?"
   ]
  },
  {
   "cell_type": "markdown",
   "id": "2cb3bd99",
   "metadata": {},
   "source": [
    "The six comparision operators  are == , != , < , > , <= , =>"
   ]
  },
  {
   "cell_type": "markdown",
   "id": "92186f68",
   "metadata": {},
   "source": [
    "# 6. How do you tell the difference between the equal to and assignment operators?Describe a condition and when you would use one ?"
   ]
  },
  {
   "cell_type": "markdown",
   "id": "efec8e9e",
   "metadata": {},
   "source": [
    "= operator helps to assign value to variable and == operator helps to check the condition between two values"
   ]
  },
  {
   "cell_type": "code",
   "execution_count": 8,
   "id": "e50feefb",
   "metadata": {},
   "outputs": [
    {
     "name": "stdout",
     "output_type": "stream",
     "text": [
      "3\n",
      "true\n"
     ]
    }
   ],
   "source": [
    "a=3 \n",
    "if a==3:\n",
    "    print(a)\n",
    "    print(\"true\")"
   ]
  },
  {
   "cell_type": "markdown",
   "id": "1debd2cc",
   "metadata": {},
   "source": [
    "# 7. Identify the three blocks in this code:\n"
   ]
  },
  {
   "cell_type": "raw",
   "id": "aa82bfe4",
   "metadata": {},
   "source": [
    "spam = 0\n",
    "if spam == 10:\n",
    "print('eggs')\n",
    "if spam > 5:\n",
    "print('bacon')\n",
    "else:\n",
    "print('ham')\n",
    "print('spam')\n",
    "print('spam')"
   ]
  },
  {
   "cell_type": "markdown",
   "id": "7e3d7042",
   "metadata": {},
   "source": [
    "The 3 blocks happen at 3,5,8th lines because in python requires indendation"
   ]
  },
  {
   "cell_type": "code",
   "execution_count": 9,
   "id": "dcef386c",
   "metadata": {},
   "outputs": [
    {
     "name": "stdout",
     "output_type": "stream",
     "text": [
      "ham\n",
      "spam\n",
      "spam\n",
      "this is correct code\n"
     ]
    }
   ],
   "source": [
    "spam = 0  \n",
    "if spam == 10:  \n",
    "    print('eggs')  # block #1\n",
    "if spam > 5:  \n",
    "    print('bacon')  # block #2\n",
    "else:  \n",
    "    print('ham')  # block #3\n",
    "print('spam')  \n",
    "print('spam')\n",
    "print(\"this is correct code\")"
   ]
  },
  {
   "cell_type": "markdown",
   "id": "1e863c45",
   "metadata": {},
   "source": [
    "# 8. Write code that prints Hello if 1 is stored in spam, prints Howdy if 2 is stored in spam, and prints Greetings! if anything else is stored in spam."
   ]
  },
  {
   "cell_type": "code",
   "execution_count": 10,
   "id": "b2b72e36",
   "metadata": {},
   "outputs": [
    {
     "name": "stdout",
     "output_type": "stream",
     "text": [
      "Hello\n",
      "Howdy\n",
      "Greetings\n"
     ]
    }
   ],
   "source": [
    "def Code(spam):\n",
    "    if spam==1:\n",
    "        print('Hello')\n",
    "    elif spam==2:\n",
    "        print('Howdy')\n",
    "    else:\n",
    "        print('Greetings')\n",
    "        \n",
    "Code(1) \n",
    "Code(2)\n",
    "Code(3)"
   ]
  },
  {
   "cell_type": "markdown",
   "id": "fa3fe2fe",
   "metadata": {},
   "source": [
    "# 9.If your programme is stuck in an endless loop, what keys you’ll press?"
   ]
  },
  {
   "cell_type": "markdown",
   "id": "62aedbd6",
   "metadata": {},
   "source": [
    "Ctrl-c"
   ]
  },
  {
   "cell_type": "markdown",
   "id": "0d55995e",
   "metadata": {},
   "source": [
    "# 10. How can you tell the difference between break and continue?"
   ]
  },
  {
   "cell_type": "markdown",
   "id": "26d98ce2",
   "metadata": {},
   "source": [
    "Break statement will move the execution outside of loop. Continue statement will move to the start of the loop"
   ]
  },
  {
   "cell_type": "markdown",
   "id": "da75da50",
   "metadata": {},
   "source": [
    "# 11. In a for loop, what is the difference between range(10), range(0, 10), and range(0, 10, 1)?"
   ]
  },
  {
   "cell_type": "markdown",
   "id": "f415a3a6",
   "metadata": {},
   "source": [
    "range(10) gives the values from 0 to 9. range(0,10) gives the value from 0 to 9 in from of loop. range(0,10,1) gives the value 0 to 9 with each 1 iteration from loop"
   ]
  },
  {
   "cell_type": "markdown",
   "id": "3fd897e6",
   "metadata": {},
   "source": [
    "# 12. Write a short program that prints the numbers 1 to 10 using a for loop. Then write an equivalent program that prints the numbers 1 to 10 using a while loop ?"
   ]
  },
  {
   "cell_type": "code",
   "execution_count": 11,
   "id": "a013e119",
   "metadata": {},
   "outputs": [
    {
     "name": "stdout",
     "output_type": "stream",
     "text": [
      "Using For Loop\n",
      "1 2 3 4 5 6 7 8 9 10 \n",
      "\n",
      "Using While Loop\n",
      "1 2 3 4 5 6 7 8 9 10 "
     ]
    }
   ],
   "source": [
    "print(\"Using For Loop\")\n",
    "for i in range(1,11):\n",
    "    print(i, end=\" \")\n",
    "print('\\n')\n",
    "print('Using While Loop') \n",
    "i=1\n",
    "while i<=10:\n",
    "    print(i, end=\" \")\n",
    "    i+=1"
   ]
  },
  {
   "cell_type": "markdown",
   "id": "1f7966b4",
   "metadata": {},
   "source": [
    "# 13. If you had a function named bacon() inside a module named spam, how would you call it after importing spam ?"
   ]
  },
  {
   "cell_type": "markdown",
   "id": "6806e1aa",
   "metadata": {},
   "source": [
    "spam.bacon()"
   ]
  },
  {
   "cell_type": "code",
   "execution_count": null,
   "id": "fae58eff",
   "metadata": {},
   "outputs": [],
   "source": []
  }
 ],
 "metadata": {
  "kernelspec": {
   "display_name": "Python 3 (ipykernel)",
   "language": "python",
   "name": "python3"
  },
  "language_info": {
   "codemirror_mode": {
    "name": "ipython",
    "version": 3
   },
   "file_extension": ".py",
   "mimetype": "text/x-python",
   "name": "python",
   "nbconvert_exporter": "python",
   "pygments_lexer": "ipython3",
   "version": "3.9.7"
  }
 },
 "nbformat": 4,
 "nbformat_minor": 5
}
